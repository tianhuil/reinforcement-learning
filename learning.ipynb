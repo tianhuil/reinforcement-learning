{
 "cells": [
  {
   "cell_type": "code",
   "execution_count": null,
   "metadata": {},
   "outputs": [],
   "source": [
    "%load_ext autoreload\n",
    "%autoreload 2\n",
    "%pdb on\n",
    "import pdb"
   ]
  },
  {
   "cell_type": "code",
   "execution_count": null,
   "metadata": {},
   "outputs": [],
   "source": [
    "!pip install \"stable-baselines3[extra]>=2.0.0a4\""
   ]
  },
  {
   "cell_type": "code",
   "execution_count": null,
   "metadata": {},
   "outputs": [],
   "source": [
    "![[ -d \"reinforcement_learning\" ]] && pushd reinforcement_learning; git pull; popd\n",
    "![[ ! -d \"reinforcement_learning\" ]] && git clone https://github.com/tianhuil/reinforcement_learning.git\n",
    "!pushd reinforcement_learning; git show HEAD; popd"
   ]
  },
  {
   "cell_type": "code",
   "execution_count": null,
   "metadata": {},
   "outputs": [],
   "source": [
    "import time\n",
    "from stable_baselines3 import A2C\n",
    "from stable_baselines3.common.env_checker import check_env\n",
    "from reinforcement_learning.src.logistics import Logistics\n",
    "from stable_baselines3.common.monitor import Monitor\n",
    "\n",
    "env = Logistics()\n",
    "check_env(env)\n",
    "log_dir = \"/tmp/gym/{}\".format(int(time.time()))\n",
    "env = Monitor(env, log_dir, allow_early_resets=True)\n",
    "\n",
    "\n",
    "model = A2C(\"MultiInputPolicy\", env, verbose=1).learn(5000)"
   ]
  }
 ],
 "metadata": {
  "language_info": {
   "name": "python"
  }
 },
 "nbformat": 4,
 "nbformat_minor": 2
}
